{
 "cells": [
  {
   "cell_type": "code",
   "execution_count": null,
   "metadata": {},
   "outputs": [],
   "source": [
    "import ipywidgets as ipw\n",
    "from cornerstone_widget import CornerstoneToolbarWidget\n",
    "import numpy as np"
   ]
  },
  {
   "cell_type": "code",
   "execution_count": null,
   "metadata": {},
   "outputs": [],
   "source": [
    "size_scroller = ipw.IntSlider(value=128, min=3, max=2048, description='Image Size')\n",
    "def show_image(cs_obj, img_maker):\n",
    "    c_wid = size_scroller.value\n",
    "    cs_obj.update_image(img_maker(c_wid))\n",
    "\n",
    "def zoom_viewer(cs_obj, zf):\n",
    "    cs_obj.cur_image_view.img_scale+=zf"
   ]
  },
  {
   "cell_type": "code",
   "execution_count": null,
   "metadata": {},
   "outputs": [],
   "source": [
    "cs_view = CornerstoneToolbarWidget()"
   ]
  },
  {
   "cell_type": "code",
   "execution_count": null,
   "metadata": {},
   "outputs": [],
   "source": [
    "noisy_img_but = ipw.Button(description='Noisy Image')\n",
    "noisy_image = lambda x: np.random.uniform(-1000, 1000, size=(x, x))\n",
    "noisy_img_but.on_click(lambda *args: show_image(cs_view, \n",
    "                                                noisy_image))\n",
    "\n",
    "gradient_img_but = ipw.Button(description='Gradient Image')\n",
    "gradient_image = lambda x: np.linspace(-1, 1, x*x).reshape((x, x))\n",
    "gradient_img_but.on_click(lambda *args: show_image(cs_view, \n",
    "                                                gradient_image))\n",
    "\n",
    "cgradient_img_but = ipw.Button(description='Color Gradient Image')\n",
    "def cgradient_image(x): \n",
    "    base_img = np.linspace(127, 255, x*x).reshape((x, x)).astype(np.uint8)\n",
    "    rgb_img = np.stack([base_img, \n",
    "                        base_img.T, \n",
    "                        np.full_like(base_img, 255), \n",
    "                        base_img], -1)\n",
    "    return rgb_img\n",
    "\n",
    "cgradient_img_but.on_click(lambda *args: show_image(cs_view, cgradient_image))\n",
    "\n",
    "\n",
    "half_img_but = ipw.Button(description='Half Image')\n",
    "half_image = lambda x: np.eye(x)[:x//2]\n",
    "half_img_but.on_click(lambda *args: show_image(cs_view, half_image))\n",
    "\n",
    "zoom_in_but = ipw.Button(description='Zoom In')\n",
    "zoom_in_but.on_click(lambda *args: zoom_viewer(cs_view, 0.25))\n",
    "zoom_out_but = ipw.Button(description='Zoom Out')\n",
    "zoom_out_but.on_click(lambda *args: zoom_viewer(cs_view, -0.25))"
   ]
  },
  {
   "cell_type": "code",
   "execution_count": null,
   "metadata": {},
   "outputs": [],
   "source": [
    "ipw.VBox([\n",
    "    cs_view.get_widget(),\n",
    "    ipw.HBox([\n",
    "        size_scroller,\n",
    "        ipw.VBox([noisy_img_but, half_img_but, gradient_img_but, cgradient_img_but]),\n",
    "        ipw.VBox([zoom_in_but, zoom_out_but])\n",
    "    ])\n",
    "])"
   ]
  },
  {
   "cell_type": "code",
   "execution_count": null,
   "metadata": {},
   "outputs": [],
   "source": []
  }
 ],
 "metadata": {
  "kernelspec": {
   "display_name": "Python 3",
   "language": "python",
   "name": "python3"
  },
  "language_info": {
   "codemirror_mode": {
    "name": "ipython",
    "version": 3
   },
   "file_extension": ".py",
   "mimetype": "text/x-python",
   "name": "python",
   "nbconvert_exporter": "python",
   "pygments_lexer": "ipython3",
   "version": "3.6.5"
  }
 },
 "nbformat": 4,
 "nbformat_minor": 2
}
